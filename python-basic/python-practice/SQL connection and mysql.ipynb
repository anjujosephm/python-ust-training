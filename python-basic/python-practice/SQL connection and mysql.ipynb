{
 "cells": [
  {
   "cell_type": "markdown",
   "id": "e369e299",
   "metadata": {},
   "source": [
    "# SQL server connection"
   ]
  },
  {
   "cell_type": "code",
   "execution_count": null,
   "id": "91113053",
   "metadata": {},
   "outputs": [],
   "source": [
    "pip install pyodbc"
   ]
  },
  {
   "cell_type": "code",
   "execution_count": null,
   "id": "f5cee2eb",
   "metadata": {},
   "outputs": [],
   "source": [
    "import pyodbc"
   ]
  },
  {
   "cell_type": "code",
   "execution_count": null,
   "id": "96a4e29d",
   "metadata": {},
   "outputs": [],
   "source": [
    "conn =pyodbc.connect(\"Driver={SQL Server};\"               \n",
    "               \"Server=localhost;\"\n",
    "               \"Database=dbs_ToysManagementSystem_Anju;\"\n",
    "               \"username=sa;\"\n",
    "               \"password=P@ssw0rd;\"\n",
    "               \"Trusted_Connection = no;\")\n",
    "cursor=conn.cursor()\n",
    "cursor.execute('SELECT * FROM tms_Category')\n",
    "\n",
    "for i in cursor:\n",
    "    print(i)"
   ]
  },
  {
   "cell_type": "markdown",
   "id": "b5b625d1",
   "metadata": {},
   "source": [
    "# mysql connection"
   ]
  },
  {
   "cell_type": "code",
   "execution_count": null,
   "id": "e755d721",
   "metadata": {},
   "outputs": [],
   "source": [
    "pip install mysql-connector-python"
   ]
  },
  {
   "cell_type": "code",
   "execution_count": 3,
   "id": "dc968578",
   "metadata": {},
   "outputs": [],
   "source": [
    "import mysql.connector\n",
    "\n",
    "mydb = mysql.connector.connect(host=\"localhost\",user=\"root\",password=\"\")\n",
    "mycursor=mydb.cursor()\n",
    "mycursor.execute('create database upythondatabase')      #create database\n"
   ]
  },
  {
   "cell_type": "code",
   "execution_count": 5,
   "id": "8d704bdc",
   "metadata": {},
   "outputs": [
    {
     "name": "stdout",
     "output_type": "stream",
     "text": [
      "('information_schema',)\n",
      "('mysql',)\n",
      "('performance_schema',)\n",
      "('phpmyadmin',)\n",
      "('test',)\n",
      "('upythondatabase',)\n",
      "('ust_db',)\n",
      "('ust_db_python',)\n",
      "('ustdb',)\n",
      "('usttrainingdatabase',)\n"
     ]
    }
   ],
   "source": [
    "dbs=mycursor.execute('show databases')      # check database is exist or not\n",
    "for x in mycursor:\n",
    "    print(x)"
   ]
  },
  {
   "cell_type": "code",
   "execution_count": 8,
   "id": "77f9b828",
   "metadata": {},
   "outputs": [],
   "source": [
    "import mysql.connector\n",
    "\n",
    "mydb = mysql.connector.connect(host=\"localhost\",user=\"root\",password=\"\",database=\"upythondatabase\")\n",
    "mycursor=mydb.cursor()\n",
    "mycursor.execute(\"CREATE TABLE customers (name VARCHAR(255), address VARCHAR(255))\")          #create table"
   ]
  },
  {
   "cell_type": "code",
   "execution_count": 9,
   "id": "1e4acde4",
   "metadata": {},
   "outputs": [
    {
     "name": "stdout",
     "output_type": "stream",
     "text": [
      "('customers',)\n"
     ]
    }
   ],
   "source": [
    "mycursor.execute('show tables')             #check table exist\n",
    "for x in mycursor:\n",
    "    print(x)"
   ]
  },
  {
   "cell_type": "code",
   "execution_count": null,
   "id": "f91f54cf",
   "metadata": {},
   "outputs": [],
   "source": [
    "# creating primary key in a table"
   ]
  },
  {
   "cell_type": "code",
   "execution_count": 10,
   "id": "956385c6",
   "metadata": {},
   "outputs": [],
   "source": [
    "import mysql.connector\n",
    "\n",
    "mydb = mysql.connector.connect(host=\"localhost\",user=\"root\",password=\"\",database=\"upythondatabase\")\n",
    "mycursor=mydb.cursor()\n",
    "mycursor.execute(\"CREATE TABLE customersdetails (id INT AUTO_INCREMENT PRIMARY KEY,name VARCHAR(255), address VARCHAR(255))\")          #create table"
   ]
  },
  {
   "cell_type": "code",
   "execution_count": 11,
   "id": "5a3dcc1d",
   "metadata": {},
   "outputs": [
    {
     "name": "stdout",
     "output_type": "stream",
     "text": [
      "1 record inserted.\n"
     ]
    }
   ],
   "source": [
    "import mysql.connector\n",
    "\n",
    "mydb = mysql.connector.connect(host=\"localhost\",user=\"root\",password=\"\",database=\"upythondatabase\")\n",
    "mycursor=mydb.cursor()\n",
    "sql = \"INSERT INTO customersdetails (name, address) VALUES (%s, %s)\"\n",
    "val = (\"John\", \"Highway 21\")\n",
    "mycursor.execute(sql, val)\n",
    "\n",
    "mydb.commit()\n",
    "\n",
    "print(mycursor.rowcount, \"record inserted.\")"
   ]
  },
  {
   "cell_type": "code",
   "execution_count": 12,
   "id": "50d8d055",
   "metadata": {},
   "outputs": [
    {
     "name": "stdout",
     "output_type": "stream",
     "text": [
      "7 was inserted.\n"
     ]
    }
   ],
   "source": [
    "import mysql.connector\n",
    "\n",
    "mydb = mysql.connector.connect(host=\"localhost\",user=\"root\",password=\"\",database=\"upythondatabase\")\n",
    "mycursor=mydb.cursor()\n",
    "sql = \"INSERT INTO customers (name, address) VALUES (%s, %s)\"\n",
    "val = [\n",
    "  ('Anju', 'Lowstreet 4'),\n",
    "  ('ANu', 'Apple st 652'),\n",
    "  ('Hannah', 'Mountain 21'),\n",
    "  ('Shanil', 'Valley 345'),\n",
    "  ('A', 'Ocean blvd 2'),\n",
    "  ('B', 'Green Grass 1'),\n",
    "  ('C', 'Sky st 331') \n",
    "]\n",
    "\n",
    "mycursor.executemany(sql, val)\n",
    "\n",
    "mydb.commit()\n",
    "\n",
    "print(mycursor.rowcount, \"was inserted.\")"
   ]
  },
  {
   "cell_type": "code",
   "execution_count": 13,
   "id": "eddc52d7",
   "metadata": {},
   "outputs": [
    {
     "name": "stdout",
     "output_type": "stream",
     "text": [
      "('Anju', 'Lowstreet 4')\n",
      "('ANu', 'Apple st 652')\n",
      "('Hannah', 'Mountain 21')\n",
      "('Shanil', 'Valley 345')\n",
      "('A', 'Ocean blvd 2')\n",
      "('B', 'Green Grass 1')\n",
      "('C', 'Sky st 331')\n"
     ]
    }
   ],
   "source": [
    "import mysql.connector\n",
    "\n",
    "mydb = mysql.connector.connect(host=\"localhost\",user=\"root\",password=\"\",database=\"upythondatabase\")\n",
    "mycursor=mydb.cursor()\n",
    "mycursor.execute(\"SELECT * FROM customers\")\n",
    "myresult = mycursor.fetchall()\n",
    "\n",
    "for x in myresult:\n",
    "    print(x)"
   ]
  },
  {
   "cell_type": "code",
   "execution_count": null,
   "id": "1f14ca64",
   "metadata": {},
   "outputs": [],
   "source": []
  }
 ],
 "metadata": {
  "kernelspec": {
   "display_name": "Python 3 (ipykernel)",
   "language": "python",
   "name": "python3"
  },
  "language_info": {
   "codemirror_mode": {
    "name": "ipython",
    "version": 3
   },
   "file_extension": ".py",
   "mimetype": "text/x-python",
   "name": "python",
   "nbconvert_exporter": "python",
   "pygments_lexer": "ipython3",
   "version": "3.9.7"
  }
 },
 "nbformat": 4,
 "nbformat_minor": 5
}
