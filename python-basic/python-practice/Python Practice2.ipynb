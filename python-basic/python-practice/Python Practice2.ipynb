{
 "cells": [
  {
   "cell_type": "code",
   "execution_count": 1,
   "id": "13fc95f0",
   "metadata": {},
   "outputs": [
    {
     "data": {
      "text/plain": [
       "['False',\n",
       " 'None',\n",
       " 'True',\n",
       " '__peg_parser__',\n",
       " 'and',\n",
       " 'as',\n",
       " 'assert',\n",
       " 'async',\n",
       " 'await',\n",
       " 'break',\n",
       " 'class',\n",
       " 'continue',\n",
       " 'def',\n",
       " 'del',\n",
       " 'elif',\n",
       " 'else',\n",
       " 'except',\n",
       " 'finally',\n",
       " 'for',\n",
       " 'from',\n",
       " 'global',\n",
       " 'if',\n",
       " 'import',\n",
       " 'in',\n",
       " 'is',\n",
       " 'lambda',\n",
       " 'nonlocal',\n",
       " 'not',\n",
       " 'or',\n",
       " 'pass',\n",
       " 'raise',\n",
       " 'return',\n",
       " 'try',\n",
       " 'while',\n",
       " 'with',\n",
       " 'yield']"
      ]
     },
     "execution_count": 1,
     "metadata": {},
     "output_type": "execute_result"
    }
   ],
   "source": [
    "import keyword\n",
    "keyword.kwlist"
   ]
  },
  {
   "cell_type": "code",
   "execution_count": 2,
   "id": "738e239b",
   "metadata": {},
   "outputs": [
    {
     "data": {
      "text/plain": [
       "True"
      ]
     },
     "execution_count": 2,
     "metadata": {},
     "output_type": "execute_result"
    }
   ],
   "source": [
    "keyword.iskeyword('try')"
   ]
  },
  {
   "cell_type": "code",
   "execution_count": 3,
   "id": "e8d14585",
   "metadata": {},
   "outputs": [],
   "source": [
    "name = 'anju'\n",
    "my_identifier = name\n"
   ]
  },
  {
   "cell_type": "code",
   "execution_count": 5,
   "id": "2e7dfe55",
   "metadata": {},
   "outputs": [
    {
     "name": "stdout",
     "output_type": "stream",
     "text": [
      "anju\n"
     ]
    }
   ],
   "source": [
    "print(name)"
   ]
  },
  {
   "cell_type": "code",
   "execution_count": 6,
   "id": "41e8ebff",
   "metadata": {},
   "outputs": [],
   "source": [
    "#this is comment"
   ]
  },
  {
   "cell_type": "code",
   "execution_count": 7,
   "id": "881d06d6",
   "metadata": {},
   "outputs": [
    {
     "name": "stdout",
     "output_type": "stream",
     "text": [
      "10\n",
      "20\n"
     ]
    }
   ],
   "source": [
    "a=10\n",
    "def function():\n",
    "    global a\n",
    "    a += 10\n",
    "    print(a)\n",
    "print(a)\n",
    "function()"
   ]
  },
  {
   "cell_type": "code",
   "execution_count": 8,
   "id": "fc553552",
   "metadata": {},
   "outputs": [
    {
     "name": "stdout",
     "output_type": "stream",
     "text": [
      "{False, True, 2, 3, 4, 5, 'shanil', 'anu', 'anju'}\n"
     ]
    }
   ],
   "source": [
    "set={True,False,'anju','anu','shanil',1,2,3,4,5}\n",
    "print(set)"
   ]
  },
  {
   "cell_type": "code",
   "execution_count": 9,
   "id": "893084d5",
   "metadata": {},
   "outputs": [
    {
     "name": "stdout",
     "output_type": "stream",
     "text": [
      "[True, False, 'anju', 'anu', 'shanil', 1, 2, 3, 4, 5]\n"
     ]
    }
   ],
   "source": [
    "set=list((True,False,'anju','anu','shanil',1,2,3,4,5))\n",
    "print(set)"
   ]
  },
  {
   "cell_type": "code",
   "execution_count": 11,
   "id": "5a7a7d79",
   "metadata": {},
   "outputs": [
    {
     "name": "stdout",
     "output_type": "stream",
     "text": [
      "('anju', 'shanil', '123')\n",
      "['anju', 'shanil', '123']\n"
     ]
    }
   ],
   "source": [
    "x=('anju','anu','123')\n",
    "y=list(x)\n",
    "y[1]='shanil'\n",
    "x=tuple(y)\n",
    "print(x)\n",
    "print(y)"
   ]
  },
  {
   "cell_type": "code",
   "execution_count": 1,
   "id": "487a212e",
   "metadata": {},
   "outputs": [
    {
     "name": "stdout",
     "output_type": "stream",
     "text": [
      "nposition order : \n",
      "to,UST,welcome\n"
     ]
    }
   ],
   "source": [
    "#string\n",
    "string_one = \"{1},{2},{0}\".format('welcome','to','UST')\n",
    "print(\"nposition order : \")\n",
    "print(string_one)"
   ]
  },
  {
   "cell_type": "code",
   "execution_count": 2,
   "id": "31e0127b",
   "metadata": {},
   "outputs": [
    {
     "name": "stdout",
     "output_type": "stream",
     "text": [
      "10.0\n"
     ]
    }
   ],
   "source": [
    "a = 10\n",
    "b = float(a)\n",
    "print(b)"
   ]
  },
  {
   "cell_type": "code",
   "execution_count": 3,
   "id": "cf4a0d46",
   "metadata": {},
   "outputs": [
    {
     "name": "stdout",
     "output_type": "stream",
     "text": [
      "23\n"
     ]
    }
   ],
   "source": [
    "s = 23.678\n",
    "c = int(s)\n",
    "print(c)"
   ]
  },
  {
   "cell_type": "code",
   "execution_count": 4,
   "id": "cfbe8c3b",
   "metadata": {},
   "outputs": [
    {
     "name": "stdout",
     "output_type": "stream",
     "text": [
      "[1, 3, 5, 2, 98, 10]\n"
     ]
    }
   ],
   "source": [
    "list = [1,3,5,2,4,98,10]\n",
    "list.remove(4)\n",
    "print(list)"
   ]
  },
  {
   "cell_type": "code",
   "execution_count": 1,
   "id": "dd522e77",
   "metadata": {},
   "outputs": [
    {
     "name": "stdout",
     "output_type": "stream",
     "text": [
      "['a', 'b', 'c']\n"
     ]
    }
   ],
   "source": [
    "#remove duplicates\n",
    "list1 = [\"a\",\"b\",\"c\",\"b\",\"a\",\"b\"]\n",
    "b=list(dict.fromkeys(list1))\n",
    "print(b)"
   ]
  },
  {
   "cell_type": "code",
   "execution_count": 10,
   "id": "b7c9871d",
   "metadata": {},
   "outputs": [
    {
     "name": "stdout",
     "output_type": "stream",
     "text": [
      "['three', 'four', 'five']\n"
     ]
    }
   ],
   "source": [
    "mylist = ['one','two','three','four','five','six']\n",
    "print(mylist[2:5])"
   ]
  },
  {
   "cell_type": "code",
   "execution_count": 13,
   "id": "97f011f2",
   "metadata": {},
   "outputs": [
    {
     "name": "stdout",
     "output_type": "stream",
     "text": [
      "['one', 'two', 'three', 'four']\n"
     ]
    }
   ],
   "source": [
    "#range\n",
    "mylist = ['one','two','three','four','five','six']\n",
    "print(mylist[:4])"
   ]
  },
  {
   "cell_type": "code",
   "execution_count": 2,
   "id": "47c0639e",
   "metadata": {},
   "outputs": [
    {
     "name": "stdout",
     "output_type": "stream",
     "text": [
      "['a', 'b', 'c']\n"
     ]
    }
   ],
   "source": [
    "list1=['a','b','c','a','b','c']\n",
    "b=list(dict.fromkeys(list1))\n",
    "print(b)"
   ]
  },
  {
   "cell_type": "code",
   "execution_count": 16,
   "id": "0c1408d5",
   "metadata": {},
   "outputs": [
    {
     "name": "stdout",
     "output_type": "stream",
     "text": [
      "['three', 'four', 'five', 'six']\n"
     ]
    }
   ],
   "source": [
    "mylist = ['one','two','three','four','five','six']\n",
    "print(mylist[2:])"
   ]
  },
  {
   "cell_type": "code",
   "execution_count": 17,
   "id": "56751e25",
   "metadata": {},
   "outputs": [
    {
     "name": "stdout",
     "output_type": "stream",
     "text": [
      "['three', 'four', 'five']\n"
     ]
    }
   ],
   "source": [
    "#negative indexing\n",
    "mylist = ['one','two','three','four','five','six']\n",
    "print(mylist[-4:-1])"
   ]
  },
  {
   "cell_type": "code",
   "execution_count": 18,
   "id": "8f343a22",
   "metadata": {},
   "outputs": [
    {
     "name": "stdout",
     "output_type": "stream",
     "text": [
      "three in my list\n"
     ]
    }
   ],
   "source": [
    "mylist = ['one','two','three','four','five','six']\n",
    "if \"three\" in mylist:\n",
    "    print(\"three in my list\")\n"
   ]
  },
  {
   "cell_type": "code",
   "execution_count": 19,
   "id": "abe37b8d",
   "metadata": {},
   "outputs": [
    {
     "name": "stdout",
     "output_type": "stream",
     "text": [
      "['one', 'two', 'ind', 'four', 'five', 'six']\n"
     ]
    }
   ],
   "source": [
    "#replace new item\n",
    "mylist = ['one','two','three','four','five','six']\n",
    "mylist[2]=\"ind\"\n",
    "print(mylist)"
   ]
  },
  {
   "cell_type": "code",
   "execution_count": 20,
   "id": "c6107177",
   "metadata": {},
   "outputs": [
    {
     "name": "stdout",
     "output_type": "stream",
     "text": [
      "['one', 'ind', 'eng', 'three', 'four', 'five', 'six']\n"
     ]
    }
   ],
   "source": [
    "#replace new items(range of items)\n",
    "mylist = ['one','two','three','four','five','six']\n",
    "mylist[1:2]=[\"ind\",\"eng\"]\n",
    "print(mylist)"
   ]
  },
  {
   "cell_type": "code",
   "execution_count": 21,
   "id": "cfed7693",
   "metadata": {},
   "outputs": [
    {
     "name": "stdout",
     "output_type": "stream",
     "text": [
      "['one', 'two', 'ind', 'three', 'four', 'five', 'six']\n"
     ]
    }
   ],
   "source": [
    "#insert new item at specified index position\n",
    "mylist = ['one','two','three','four','five','six']\n",
    "mylist.insert(2,\"ind\")\n",
    "print(mylist)"
   ]
  },
  {
   "cell_type": "code",
   "execution_count": 23,
   "id": "d56b3a81",
   "metadata": {},
   "outputs": [
    {
     "name": "stdout",
     "output_type": "stream",
     "text": [
      "['one', 'two', 'three', 'four', 'five', 'six', 'ind']\n"
     ]
    }
   ],
   "source": [
    "#insert new item at end\n",
    "mylist = ['one','two','three','four','five','six']\n",
    "mylist.append(\"ind\")\n",
    "print(mylist)"
   ]
  },
  {
   "cell_type": "code",
   "execution_count": 24,
   "id": "479e022b",
   "metadata": {},
   "outputs": [
    {
     "name": "stdout",
     "output_type": "stream",
     "text": [
      "['one', 'two', 'three', 'four', 'five', 'six', 1, 2, 3, 45, 5]\n"
     ]
    }
   ],
   "source": [
    "#combine two lists\n",
    "mylist = ['one','two','three','four','five','six']\n",
    "mylist2 = [1,2,3,45,5]\n",
    "mylist.extend(mylist2)\n",
    "print(mylist)"
   ]
  },
  {
   "cell_type": "code",
   "execution_count": 25,
   "id": "107bb59e",
   "metadata": {},
   "outputs": [
    {
     "name": "stdout",
     "output_type": "stream",
     "text": [
      "['one', 'two', 'four', 'five', 'six']\n"
     ]
    }
   ],
   "source": [
    "#remove from list\n",
    "mylist = ['one','two','three','four','five','six']\n",
    "mylist.remove('three')\n",
    "print(mylist)"
   ]
  },
  {
   "cell_type": "code",
   "execution_count": 26,
   "id": "e4537f18",
   "metadata": {},
   "outputs": [
    {
     "name": "stdout",
     "output_type": "stream",
     "text": [
      "['one', 'two', 'four', 'five', 'six']\n"
     ]
    }
   ],
   "source": [
    "#remove from list specifying index\n",
    "mylist = ['one','two','three','four','five','six']\n",
    "mylist.pop(2)\n",
    "print(mylist)"
   ]
  },
  {
   "cell_type": "code",
   "execution_count": 27,
   "id": "a370128a",
   "metadata": {},
   "outputs": [
    {
     "name": "stdout",
     "output_type": "stream",
     "text": [
      "['one', 'two', 'three', 'four', 'five']\n"
     ]
    }
   ],
   "source": [
    "#remove item from list sfrom end\n",
    "mylist = ['one','two','three','four','five','six']\n",
    "mylist.pop()\n",
    "print(mylist)"
   ]
  },
  {
   "cell_type": "code",
   "execution_count": 3,
   "id": "dd85b346",
   "metadata": {},
   "outputs": [
    {
     "ename": "NameError",
     "evalue": "name 'mylist' is not defined",
     "output_type": "error",
     "traceback": [
      "\u001b[1;31m---------------------------------------------------------------------------\u001b[0m",
      "\u001b[1;31mNameError\u001b[0m                                 Traceback (most recent call last)",
      "\u001b[1;32m~\\AppData\\Local\\Temp/ipykernel_18800/4210379729.py\u001b[0m in \u001b[0;36m<module>\u001b[1;34m\u001b[0m\n\u001b[0;32m      2\u001b[0m \u001b[0mmylist\u001b[0m \u001b[1;33m=\u001b[0m \u001b[1;33m[\u001b[0m\u001b[1;34m'one'\u001b[0m\u001b[1;33m,\u001b[0m\u001b[1;34m'two'\u001b[0m\u001b[1;33m,\u001b[0m\u001b[1;34m'three'\u001b[0m\u001b[1;33m,\u001b[0m\u001b[1;34m'four'\u001b[0m\u001b[1;33m,\u001b[0m\u001b[1;34m'five'\u001b[0m\u001b[1;33m,\u001b[0m\u001b[1;34m'six'\u001b[0m\u001b[1;33m]\u001b[0m\u001b[1;33m\u001b[0m\u001b[1;33m\u001b[0m\u001b[0m\n\u001b[0;32m      3\u001b[0m \u001b[1;32mdel\u001b[0m \u001b[0mmylist\u001b[0m\u001b[1;33m\u001b[0m\u001b[1;33m\u001b[0m\u001b[0m\n\u001b[1;32m----> 4\u001b[1;33m \u001b[0mprint\u001b[0m\u001b[1;33m(\u001b[0m\u001b[0mmylist\u001b[0m\u001b[1;33m)\u001b[0m\u001b[1;33m\u001b[0m\u001b[1;33m\u001b[0m\u001b[0m\n\u001b[0m",
      "\u001b[1;31mNameError\u001b[0m: name 'mylist' is not defined"
     ]
    }
   ],
   "source": [
    "#delete entire list\n",
    "mylist = ['one','two','three','four','five','six']\n",
    "del mylist\n",
    "print(mylist)"
   ]
  },
  {
   "cell_type": "code",
   "execution_count": 29,
   "id": "66219bb0",
   "metadata": {},
   "outputs": [
    {
     "name": "stdout",
     "output_type": "stream",
     "text": [
      "[]\n"
     ]
    }
   ],
   "source": [
    "#clear list make empty list\n",
    "mylist = ['one','two','three','four','five','six']\n",
    "mylist.clear()\n",
    "print(mylist)"
   ]
  },
  {
   "cell_type": "code",
   "execution_count": 30,
   "id": "5200b5e0",
   "metadata": {},
   "outputs": [
    {
     "name": "stdout",
     "output_type": "stream",
     "text": [
      "['one', 'two', 'three', 'four', 'five', 'six']\n",
      "['one', 'two', 'three', 'four', 'five', 'six']\n",
      "['one', 'two', 'three', 'four', 'five', 'six']\n",
      "['one', 'two', 'three', 'four', 'five', 'six']\n",
      "['one', 'two', 'three', 'four', 'five', 'six']\n",
      "['one', 'two', 'three', 'four', 'five', 'six']\n"
     ]
    }
   ],
   "source": [
    "#print using loop\n",
    "mylist = ['one','two','three','four','five','six']\n",
    "for x in mylist:\n",
    "    print(mylist)\n"
   ]
  },
  {
   "cell_type": "code",
   "execution_count": 31,
   "id": "3b6f7b8f",
   "metadata": {},
   "outputs": [
    {
     "name": "stdout",
     "output_type": "stream",
     "text": [
      "one\n",
      "two\n",
      "three\n",
      "four\n",
      "five\n",
      "six\n"
     ]
    }
   ],
   "source": [
    "#print using loop\n",
    "mylist = ['one','two','three','four','five','six']\n",
    "for x in mylist:\n",
    "    print(x)"
   ]
  },
  {
   "cell_type": "code",
   "execution_count": 32,
   "id": "afdde0e2",
   "metadata": {},
   "outputs": [
    {
     "name": "stdout",
     "output_type": "stream",
     "text": [
      "one\n",
      "two\n",
      "three\n",
      "four\n",
      "five\n",
      "six\n"
     ]
    }
   ],
   "source": [
    "#print using loop using indexing and range\n",
    "mylist = ['one','two','three','four','five','six']\n",
    "for x in range(len(mylist)):\n",
    "    print(mylist[x])"
   ]
  },
  {
   "cell_type": "code",
   "execution_count": null,
   "id": "d04e5e50",
   "metadata": {},
   "outputs": [],
   "source": [
    "#using while loop\n",
    "list_one=[\"chennai\",\"bangalore\",\"Hyderabad\",\"thrissur\"]\n",
    "i=0\n",
    "while i<len(list_one):\n",
    "    print(list_one[i])\n",
    "    i=i+1"
   ]
  },
  {
   "cell_type": "code",
   "execution_count": null,
   "id": "44bd9a2c",
   "metadata": {},
   "outputs": [],
   "source": [
    "#sort\n",
    "mylist = ['one','two','three','four','five','six']\n",
    "mylist.sort()\n",
    "print(mylist)"
   ]
  },
  {
   "cell_type": "code",
   "execution_count": null,
   "id": "b2c23c9b",
   "metadata": {},
   "outputs": [],
   "source": [
    "mylist = ['one','two','three','four','five','six']\n",
    "print(mylist)"
   ]
  },
  {
   "cell_type": "code",
   "execution_count": null,
   "id": "cb57c739",
   "metadata": {},
   "outputs": [],
   "source": [
    "mylist1 = ['one','two','three','four','five','six']\n",
    "print(mylist1)"
   ]
  },
  {
   "cell_type": "code",
   "execution_count": null,
   "id": "7b8b29ad",
   "metadata": {},
   "outputs": [],
   "source": [
    "#sort in reverse\n",
    "mylist = ['one','two','three','four','five','six']\n",
    "mylist.sort(reverse = True)\n",
    "print(mylist)"
   ]
  },
  {
   "cell_type": "code",
   "execution_count": 2,
   "id": "88e25eff",
   "metadata": {},
   "outputs": [
    {
     "name": "stdout",
     "output_type": "stream",
     "text": [
      "    January 2022\n",
      "Mo Tu We Th Fr Sa Su\n",
      "                1  2\n",
      " 3  4  5  6  7  8  9\n",
      "10 11 12 13 14 15 16\n",
      "17 18 19 20 21 22 23\n",
      "24 25 26 27 28 29 30\n",
      "31\n",
      "\n"
     ]
    }
   ],
   "source": [
    "import calendar\n",
    "result = calendar.month(2022,1)\n",
    "print(result)"
   ]
  }
 ],
 "metadata": {
  "kernelspec": {
   "display_name": "Python 3 (ipykernel)",
   "language": "python",
   "name": "python3"
  },
  "language_info": {
   "codemirror_mode": {
    "name": "ipython",
    "version": 3
   },
   "file_extension": ".py",
   "mimetype": "text/x-python",
   "name": "python",
   "nbconvert_exporter": "python",
   "pygments_lexer": "ipython3",
   "version": "3.9.7"
  }
 },
 "nbformat": 4,
 "nbformat_minor": 5
}
