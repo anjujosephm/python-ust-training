{
 "cells": [
  {
   "cell_type": "code",
   "execution_count": 6,
   "id": "5cd401e2",
   "metadata": {},
   "outputs": [
    {
     "name": "stdout",
     "output_type": "stream",
     "text": [
      "{'brand': 'maruthi', 'model': 'celerio', 'year': '2000'}\n"
     ]
    }
   ],
   "source": [
    "#dictionary\n",
    "mydict ={\n",
    "    \"brand\" :\"maruthi\",\n",
    "    \"model\" :\"swift\",\n",
    "    \"year\" :\"2000\"\n",
    "}\n",
    "#print(mydict[\"brand\"])\n",
    "#print(mydict.keys())\n",
    "#print(mydict.values())\n",
    "#mydict[\"model\"] =\"celerio\"\n",
    "print(mydict)"
   ]
  },
  {
   "cell_type": "code",
   "execution_count": 7,
   "id": "ce2a8627",
   "metadata": {},
   "outputs": [
    {
     "name": "stdout",
     "output_type": "stream",
     "text": [
      "{'brand': 'maruthi', 'year': '2000'}\n"
     ]
    }
   ],
   "source": [
    "#removing item with specified keyname\n",
    "mydict ={\n",
    "    \"brand\" :\"maruthi\",\n",
    "    \"model\" :\"swift\",\n",
    "    \"year\" :\"2000\"\n",
    "}\n",
    "mydict.pop(\"model\")\n",
    "print(mydict)"
   ]
  },
  {
   "cell_type": "code",
   "execution_count": 8,
   "id": "2a1d32e8",
   "metadata": {},
   "outputs": [
    {
     "name": "stdout",
     "output_type": "stream",
     "text": [
      "{'brand': 'maruthi', 'model': 'swift'}\n"
     ]
    }
   ],
   "source": [
    "#removing last inserted item\n",
    "mydict ={\n",
    "    \"brand\" :\"maruthi\",\n",
    "    \"model\" :\"swift\",\n",
    "    \"year\" :\"2000\"\n",
    "}\n",
    "mydict.popitem()\n",
    "print(mydict)"
   ]
  },
  {
   "cell_type": "code",
   "execution_count": 9,
   "id": "2d977349",
   "metadata": {},
   "outputs": [],
   "source": [
    "mydict.clear()"
   ]
  },
  {
   "cell_type": "code",
   "execution_count": 10,
   "id": "6912c6d0",
   "metadata": {},
   "outputs": [
    {
     "name": "stdout",
     "output_type": "stream",
     "text": [
      "{}\n"
     ]
    }
   ],
   "source": [
    "print(mydict)"
   ]
  },
  {
   "cell_type": "code",
   "execution_count": 11,
   "id": "4fea7dc1",
   "metadata": {},
   "outputs": [
    {
     "name": "stdout",
     "output_type": "stream",
     "text": [
      "['Anju', 'a', 'anju', 'b', 'c']\n"
     ]
    }
   ],
   "source": [
    "alist=[\"a\",\"b\",\"c\",\"Anju\",\"anju\"]\n",
    "alist.sort()\n",
    "print(alist)"
   ]
  },
  {
   "cell_type": "code",
   "execution_count": 13,
   "id": "c689603d",
   "metadata": {},
   "outputs": [
    {
     "name": "stdout",
     "output_type": "stream",
     "text": [
      "['thrissur', 'Hyderabad', 'bangalore', 'chennai']\n"
     ]
    }
   ],
   "source": [
    "list_one=[\"chennai\",\"bangalore\",\"Hyderabad\",\"thrissur\"]\n",
    "list_one.reverse()\n",
    "print(list_one)"
   ]
  },
  {
   "cell_type": "code",
   "execution_count": 14,
   "id": "6d0855b2",
   "metadata": {},
   "outputs": [
    {
     "name": "stdout",
     "output_type": "stream",
     "text": [
      "['bangalore', 'chennai', 'Hyderabad', 'thrissur']\n"
     ]
    }
   ],
   "source": [
    "list_one=[\"chennai\",\"bangalore\",\"Hyderabad\",\"thrissur\"]\n",
    "list_one.sort(key=str.lower)\n",
    "print(list_one)"
   ]
  },
  {
   "cell_type": "code",
   "execution_count": 16,
   "id": "e1f5ccc0",
   "metadata": {},
   "outputs": [
    {
     "name": "stdout",
     "output_type": "stream",
     "text": [
      "['Hyderabad', 'bangalore', 'chennai', 'thrissur']\n"
     ]
    }
   ],
   "source": [
    "list_one=[\"chennai\",\"bangalore\",\"Hyderabad\",\"thrissur\"]\n",
    "list_one.sort()\n",
    "print(list_one)"
   ]
  },
  {
   "cell_type": "code",
   "execution_count": 17,
   "id": "23f37eb9",
   "metadata": {},
   "outputs": [
    {
     "name": "stdout",
     "output_type": "stream",
     "text": [
      "['chennai', 'bangalore', 'Hyderabad', 'thrissur']\n"
     ]
    }
   ],
   "source": [
    "#copy a list\n",
    "list_one=[\"chennai\",\"bangalore\",\"Hyderabad\",\"thrissur\"]\n",
    "blist=list(list_one)\n",
    "print(blist)"
   ]
  },
  {
   "cell_type": "code",
   "execution_count": 21,
   "id": "85819e89",
   "metadata": {},
   "outputs": [
    {
     "name": "stdout",
     "output_type": "stream",
     "text": [
      "('chennai', 'bangalore', 'Hyderabad', 'thrissur')\n"
     ]
    }
   ],
   "source": [
    "#tuple\n",
    "tuple_one=(\"chennai\",\"bangalore\",\"Hyderabad\",\"thrissur\")\n",
    "print(tuple_one)"
   ]
  },
  {
   "cell_type": "code",
   "execution_count": 23,
   "id": "49f6bac6",
   "metadata": {},
   "outputs": [
    {
     "name": "stdout",
     "output_type": "stream",
     "text": [
      "4\n"
     ]
    }
   ],
   "source": [
    "tuple_one=(\"chennai\",\"bangalore\",\"Hyderabad\",\"thrissur\")\n",
    "print(len(tuple_one))"
   ]
  },
  {
   "cell_type": "code",
   "execution_count": 24,
   "id": "dd268248",
   "metadata": {},
   "outputs": [
    {
     "name": "stdout",
     "output_type": "stream",
     "text": [
      "('chennai', 'bangalore', 'Hyderabad', 'thrissur')\n"
     ]
    }
   ],
   "source": [
    "list_one=[\"chennai\",\"bangalore\",\"Hyderabad\",\"thrissur\"]\n",
    "y=tuple(list_one)\n",
    "print(y)"
   ]
  },
  {
   "cell_type": "code",
   "execution_count": 25,
   "id": "f8f814d4",
   "metadata": {},
   "outputs": [
    {
     "name": "stdout",
     "output_type": "stream",
     "text": [
      " World\n"
     ]
    }
   ],
   "source": [
    "string_a =\"Hello World\"\n",
    "print(string_a[5:])"
   ]
  },
  {
   "cell_type": "code",
   "execution_count": 26,
   "id": "49e9ec8c",
   "metadata": {},
   "outputs": [
    {
     "name": "stdout",
     "output_type": "stream",
     "text": [
      "chennai\n",
      "bangalore\n",
      "Hyderabad\n",
      "thrissur\n"
     ]
    }
   ],
   "source": [
    "list_one=[\"chennai\",\"bangalore\",\"Hyderabad\",\"thrissur\"]\n",
    "i=0\n",
    "while i<len(list_one):\n",
    "    print(list_one[i])\n",
    "    i=i+1"
   ]
  },
  {
   "cell_type": "code",
   "execution_count": 27,
   "id": "e6c036c1",
   "metadata": {},
   "outputs": [
    {
     "name": "stdout",
     "output_type": "stream",
     "text": [
      "HellA WArld\n"
     ]
    }
   ],
   "source": [
    "string_a =\"Hello World\"\n",
    "print(string_a.replace(\"o\",\"A\"))"
   ]
  },
  {
   "cell_type": "code",
   "execution_count": 28,
   "id": "e77227b8",
   "metadata": {},
   "outputs": [
    {
     "name": "stdout",
     "output_type": "stream",
     "text": [
      "HelloWorld\n"
     ]
    }
   ],
   "source": [
    "a=\"Hello\"\n",
    "b=\"World\"\n",
    "c = a+b\n",
    "print(c)"
   ]
  },
  {
   "cell_type": "code",
   "execution_count": 29,
   "id": "648da564",
   "metadata": {},
   "outputs": [
    {
     "name": "stdout",
     "output_type": "stream",
     "text": [
      "25\n"
     ]
    }
   ],
   "source": [
    "print(5**2)"
   ]
  },
  {
   "cell_type": "code",
   "execution_count": 30,
   "id": "59ae0446",
   "metadata": {},
   "outputs": [
    {
     "name": "stdout",
     "output_type": "stream",
     "text": [
      "27\n"
     ]
    }
   ],
   "source": [
    "print(3**3)"
   ]
  },
  {
   "cell_type": "code",
   "execution_count": 31,
   "id": "d3a3c758",
   "metadata": {},
   "outputs": [
    {
     "name": "stdout",
     "output_type": "stream",
     "text": [
      "7\n"
     ]
    }
   ],
   "source": [
    "#floor division operator\n",
    "x=22//3\n",
    "print(x)"
   ]
  },
  {
   "cell_type": "code",
   "execution_count": 32,
   "id": "de073e2e",
   "metadata": {},
   "outputs": [
    {
     "name": "stdout",
     "output_type": "stream",
     "text": [
      "15\n"
     ]
    }
   ],
   "source": [
    "x=5\n",
    "x+=10\n",
    "print(x)"
   ]
  },
  {
   "cell_type": "code",
   "execution_count": 33,
   "id": "3a9d5783",
   "metadata": {},
   "outputs": [
    {
     "data": {
      "text/plain": [
       "['False',\n",
       " 'None',\n",
       " 'True',\n",
       " '__peg_parser__',\n",
       " 'and',\n",
       " 'as',\n",
       " 'assert',\n",
       " 'async',\n",
       " 'await',\n",
       " 'break',\n",
       " 'class',\n",
       " 'continue',\n",
       " 'def',\n",
       " 'del',\n",
       " 'elif',\n",
       " 'else',\n",
       " 'except',\n",
       " 'finally',\n",
       " 'for',\n",
       " 'from',\n",
       " 'global',\n",
       " 'if',\n",
       " 'import',\n",
       " 'in',\n",
       " 'is',\n",
       " 'lambda',\n",
       " 'nonlocal',\n",
       " 'not',\n",
       " 'or',\n",
       " 'pass',\n",
       " 'raise',\n",
       " 'return',\n",
       " 'try',\n",
       " 'while',\n",
       " 'with',\n",
       " 'yield']"
      ]
     },
     "execution_count": 33,
     "metadata": {},
     "output_type": "execute_result"
    }
   ],
   "source": [
    "import keyword\n",
    "keyword.kwlist"
   ]
  },
  {
   "cell_type": "code",
   "execution_count": 34,
   "id": "4de4b407",
   "metadata": {},
   "outputs": [
    {
     "data": {
      "text/plain": [
       "True"
      ]
     },
     "execution_count": 34,
     "metadata": {},
     "output_type": "execute_result"
    }
   ],
   "source": [
    "keyword.iskeyword('try')"
   ]
  },
  {
   "cell_type": "code",
   "execution_count": 35,
   "id": "036ff0f7",
   "metadata": {},
   "outputs": [
    {
     "name": "stdout",
     "output_type": "stream",
     "text": [
      "anju\n"
     ]
    }
   ],
   "source": [
    "name = 'anju'\n",
    "my_identifier = name\n",
    "print(name)"
   ]
  },
  {
   "cell_type": "code",
   "execution_count": 36,
   "id": "9a31416d",
   "metadata": {},
   "outputs": [
    {
     "name": "stdout",
     "output_type": "stream",
     "text": [
      "10\n",
      "20\n"
     ]
    }
   ],
   "source": [
    "#this is comment\n",
    "a=10\n",
    "def function():\n",
    "    global a\n",
    "    a += 10\n",
    "    print(a)\n",
    "print(a)\n",
    "function()"
   ]
  },
  {
   "cell_type": "code",
   "execution_count": 37,
   "id": "a82c4600",
   "metadata": {},
   "outputs": [
    {
     "name": "stdout",
     "output_type": "stream",
     "text": [
      "{False, True, 2, 3, 'anu', 4, 5, 'shanil', 'anju'}\n"
     ]
    }
   ],
   "source": [
    "set={True,False,'anju','anu','shanil',1,2,3,4,5}\n",
    "print(set)"
   ]
  },
  {
   "cell_type": "code",
   "execution_count": 38,
   "id": "e3a43283",
   "metadata": {},
   "outputs": [
    {
     "name": "stdout",
     "output_type": "stream",
     "text": [
      "[True, False, 'anju', 'anu', 'shanil', 1, 2, 3, 4, 5]\n"
     ]
    }
   ],
   "source": [
    "set=list((True,False,'anju','anu','shanil',1,2,3,4,5))\n",
    "print(set)"
   ]
  },
  {
   "cell_type": "code",
   "execution_count": 39,
   "id": "a260d578",
   "metadata": {},
   "outputs": [
    {
     "name": "stdout",
     "output_type": "stream",
     "text": [
      "[1, 3, 5, 2, 98, 10]\n"
     ]
    }
   ],
   "source": [
    "list = [1,3,5,2,4,98,10]\n",
    "list.remove(4)\n",
    "print(list)"
   ]
  },
  {
   "cell_type": "code",
   "execution_count": 44,
   "id": "dd03b4ce",
   "metadata": {},
   "outputs": [
    {
     "ename": "TypeError",
     "evalue": "'list' object is not callable",
     "output_type": "error",
     "traceback": [
      "\u001b[1;31m---------------------------------------------------------------------------\u001b[0m",
      "\u001b[1;31mTypeError\u001b[0m                                 Traceback (most recent call last)",
      "\u001b[1;32m~\\AppData\\Local\\Temp/ipykernel_38732/3077266895.py\u001b[0m in \u001b[0;36m<module>\u001b[1;34m\u001b[0m\n\u001b[0;32m      1\u001b[0m \u001b[1;31m#remove duplicates\u001b[0m\u001b[1;33m\u001b[0m\u001b[1;33m\u001b[0m\u001b[0m\n\u001b[0;32m      2\u001b[0m \u001b[0mlist1\u001b[0m \u001b[1;33m=\u001b[0m \u001b[1;33m[\u001b[0m\u001b[1;34m'a'\u001b[0m\u001b[1;33m,\u001b[0m\u001b[1;34m'b'\u001b[0m\u001b[1;33m,\u001b[0m\u001b[1;34m'c'\u001b[0m\u001b[1;33m,\u001b[0m\u001b[1;34m'a'\u001b[0m\u001b[1;33m,\u001b[0m\u001b[1;34m'b'\u001b[0m\u001b[1;33m,\u001b[0m\u001b[1;34m'c'\u001b[0m\u001b[1;33m]\u001b[0m\u001b[1;33m\u001b[0m\u001b[1;33m\u001b[0m\u001b[0m\n\u001b[1;32m----> 3\u001b[1;33m \u001b[0mb\u001b[0m \u001b[1;33m=\u001b[0m \u001b[0mlist\u001b[0m\u001b[1;33m(\u001b[0m\u001b[0mdict\u001b[0m\u001b[1;33m.\u001b[0m\u001b[0mfromkeys\u001b[0m\u001b[1;33m(\u001b[0m\u001b[0mlist1\u001b[0m\u001b[1;33m)\u001b[0m\u001b[1;33m)\u001b[0m\u001b[1;33m\u001b[0m\u001b[1;33m\u001b[0m\u001b[0m\n\u001b[0m\u001b[0;32m      4\u001b[0m \u001b[0mprint\u001b[0m\u001b[1;33m(\u001b[0m\u001b[0mb\u001b[0m\u001b[1;33m)\u001b[0m\u001b[1;33m\u001b[0m\u001b[1;33m\u001b[0m\u001b[0m\n",
      "\u001b[1;31mTypeError\u001b[0m: 'list' object is not callable"
     ]
    }
   ],
   "source": [
    "#remove duplicates\n",
    "list1 = ['a','b','c','a','b','c']\n",
    "b = list(dict.fromkeys(list1))\n",
    "print(b)"
   ]
  },
  {
   "cell_type": "code",
   "execution_count": 45,
   "id": "a896b05c",
   "metadata": {},
   "outputs": [
    {
     "name": "stdout",
     "output_type": "stream",
     "text": [
      "True\n"
     ]
    }
   ],
   "source": [
    "x = 5\n",
    "y = 3\n",
    "\n",
    "print(x >= y)"
   ]
  },
  {
   "cell_type": "code",
   "execution_count": 46,
   "id": "b28b70fe",
   "metadata": {},
   "outputs": [
    {
     "name": "stdout",
     "output_type": "stream",
     "text": [
      "True\n"
     ]
    }
   ],
   "source": [
    "x = 5\n",
    "\n",
    "print(x > 3 and x < 10)\n"
   ]
  },
  {
   "cell_type": "code",
   "execution_count": 50,
   "id": "90951a32",
   "metadata": {},
   "outputs": [
    {
     "name": "stdout",
     "output_type": "stream",
     "text": [
      "True\n"
     ]
    }
   ],
   "source": [
    "x = [\"apple\", \"banana\"]\n",
    "y = [\"apple\", \"banana\"]\n",
    "z = x\n",
    "#print(x is z)\n",
    "#print(x is y)\n",
    "print(x == y)"
   ]
  },
  {
   "cell_type": "code",
   "execution_count": 51,
   "id": "0dc214e7",
   "metadata": {},
   "outputs": [
    {
     "name": "stdout",
     "output_type": "stream",
     "text": [
      "True\n"
     ]
    }
   ],
   "source": [
    "x = [\"apple\", \"banana\",\"orenge\"]\n",
    "\n",
    "print(\"pineapple\" not in x)\n"
   ]
  },
  {
   "cell_type": "code",
   "execution_count": 52,
   "id": "f93eb26d",
   "metadata": {},
   "outputs": [
    {
     "name": "stdout",
     "output_type": "stream",
     "text": [
      "{'apple', 'cherry', 'banana'}\n"
     ]
    }
   ],
   "source": [
    "#set does not allow duplicate values\n",
    "thisset = {\"apple\", \"banana\", \"cherry\", \"apple\"}\n",
    "\n",
    "print(thisset)"
   ]
  },
  {
   "cell_type": "code",
   "execution_count": 53,
   "id": "12d12d81",
   "metadata": {},
   "outputs": [
    {
     "name": "stdout",
     "output_type": "stream",
     "text": [
      "{'anu', 'celin', 1, 2, 3, 'banu'}\n"
     ]
    }
   ],
   "source": [
    "#set\n",
    "set1 = {\"anu\", \"banu\" , \"celin\"}\n",
    "set2 = {1, 2, 3}\n",
    "\n",
    "set3 = set1.union(set2)\n",
    "print(set3)"
   ]
  },
  {
   "cell_type": "code",
   "execution_count": 54,
   "id": "2bb96256",
   "metadata": {},
   "outputs": [
    {
     "name": "stdout",
     "output_type": "stream",
     "text": [
      "{'a', 1, 2, 3, 'c', 'b'}\n"
     ]
    }
   ],
   "source": [
    "set1 = {\"a\", \"b\" , \"c\"}\n",
    "set2 = {1, 2, 3}\n",
    "\n",
    "set1.update(set2)\n",
    "print(set1)"
   ]
  },
  {
   "cell_type": "code",
   "execution_count": 55,
   "id": "c235d70f",
   "metadata": {},
   "outputs": [
    {
     "name": "stdout",
     "output_type": "stream",
     "text": [
      "{'a', 1, 2, 3, 'c', 'b', 'manu'}\n"
     ]
    }
   ],
   "source": [
    "set1.add(\"manu\")\n",
    "print(set1)"
   ]
  },
  {
   "cell_type": "code",
   "execution_count": 56,
   "id": "36537ff4",
   "metadata": {},
   "outputs": [
    {
     "name": "stdout",
     "output_type": "stream",
     "text": [
      "a is present\n"
     ]
    }
   ],
   "source": [
    "if \"a\" in set1:\n",
    "    print(\"a is present\")"
   ]
  },
  {
   "cell_type": "code",
   "execution_count": 57,
   "id": "45f05f89",
   "metadata": {},
   "outputs": [
    {
     "name": "stdout",
     "output_type": "stream",
     "text": [
      "{'apple'}\n"
     ]
    }
   ],
   "source": [
    "#get items present in both set: use intersection_update()\n",
    "x = {\"apple\", \"banana\", \"cherry\"}\n",
    "y = {\"google\", \"microsoft\", \"apple\"}\n",
    "\n",
    "x.intersection_update(y)\n",
    "\n",
    "print(x)"
   ]
  },
  {
   "cell_type": "code",
   "execution_count": 58,
   "id": "cecf573f",
   "metadata": {},
   "outputs": [
    {
     "name": "stdout",
     "output_type": "stream",
     "text": [
      "{'brand': 'Ford', 'model': 'Mustang', 'year': 2020}\n"
     ]
    }
   ],
   "source": [
    "#duplicate keys are not allowed dictionaries\n",
    "thisdict = {\n",
    "  \"brand\": \"Ford\",\n",
    "  \"model\": \"Mustang\",\n",
    "  \"year\": 1964,\n",
    "  \"year\": 2020\n",
    "}\n",
    "print(thisdict)"
   ]
  },
  {
   "cell_type": "code",
   "execution_count": 1,
   "id": "5713b78f",
   "metadata": {},
   "outputs": [
    {
     "name": "stdout",
     "output_type": "stream",
     "text": [
      "['a', 'b', 'c']\n"
     ]
    }
   ],
   "source": [
    "mylist = [\"a\", \"b\", \"a\", \"c\", \"c\"]\n",
    "mylist = list(dict.fromkeys(mylist))\n",
    "print(mylist)"
   ]
  },
  {
   "cell_type": "code",
   "execution_count": 2,
   "id": "93b7c6be",
   "metadata": {},
   "outputs": [
    {
     "name": "stdout",
     "output_type": "stream",
     "text": [
      "['a', 'b', 'c']\n"
     ]
    }
   ],
   "source": [
    "def my_function(x):\n",
    "  return list(dict.fromkeys(x))\n",
    "\n",
    "mylist = my_function([\"a\", \"b\", \"a\", \"c\", \"c\"])\n",
    "\n",
    "print(mylist)\n"
   ]
  },
  {
   "cell_type": "code",
   "execution_count": 63,
   "id": "8dab5deb",
   "metadata": {},
   "outputs": [
    {
     "name": "stdout",
     "output_type": "stream",
     "text": [
      "{'cherry', 'banana'}\n"
     ]
    }
   ],
   "source": [
    "set1 = {\"apple\", \"banana\", \"cherry\"}\n",
    "set2 = {\"google\", \"microsoft\", \"apple\"}\n",
    "\n",
    "z = set1.difference(set2)\n",
    "\n",
    "print(z)"
   ]
  },
  {
   "cell_type": "code",
   "execution_count": 64,
   "id": "06f392fe",
   "metadata": {},
   "outputs": [
    {
     "name": "stdout",
     "output_type": "stream",
     "text": [
      "Both statements are True\n"
     ]
    }
   ],
   "source": [
    "if 5 > 3 and 5 < 10:\n",
    "  print(\"Both statements are True\")\n",
    "else:\n",
    "  print(\"At least one of the statements are False\")\n"
   ]
  },
  {
   "cell_type": "code",
   "execution_count": 65,
   "id": "7cc9442b",
   "metadata": {},
   "outputs": [
    {
     "name": "stdout",
     "output_type": "stream",
     "text": [
      "{'brand': 'Ford', 'electric': False, 'year': 1964, 'colors': ['red', 'white', 'blue']}\n"
     ]
    }
   ],
   "source": [
    "thisdict = {\n",
    "  \"brand\": \"Ford\",\n",
    "  \"electric\": False,\n",
    "  \"year\": 1964,\n",
    "  \"colors\": [\"red\", \"white\", \"blue\"]\n",
    "}\n",
    "\n",
    "print(thisdict)\n"
   ]
  },
  {
   "cell_type": "code",
   "execution_count": 1,
   "id": "7da56de4",
   "metadata": {},
   "outputs": [
    {
     "name": "stdout",
     "output_type": "stream",
     "text": [
      "b is greater than a\n"
     ]
    }
   ],
   "source": [
    "a = 33\n",
    "b = 35\n",
    "if b > a:\n",
    "    print(\"b is greater than a\")"
   ]
  },
  {
   "cell_type": "code",
   "execution_count": 2,
   "id": "979f7baf",
   "metadata": {
    "scrolled": true
   },
   "outputs": [
    {
     "name": "stdout",
     "output_type": "stream",
     "text": [
      "a is greater than b\n"
     ]
    }
   ],
   "source": [
    "a = 200\n",
    "b = 35\n",
    "if b > a:\n",
    "    print(\"b is greater than a\")\n",
    "elif a == b:\n",
    "    print(\"a and b are equal\")\n",
    "else:\n",
    "    print(\"a is greater than b\")"
   ]
  },
  {
   "cell_type": "code",
   "execution_count": 3,
   "id": "2ad56b7e",
   "metadata": {},
   "outputs": [
    {
     "name": "stdout",
     "output_type": "stream",
     "text": [
      "Above Ten\n",
      "Also above 20\n"
     ]
    }
   ],
   "source": [
    "#nested if condition\n",
    "x =41\n",
    "if x > 10:\n",
    "    print(\"Above Ten\")\n",
    "    if x > 20:\n",
    "        print(\"Also above 20\")\n",
    "    else:\n",
    "        print(\"but not above 20\")"
   ]
  },
  {
   "cell_type": "code",
   "execution_count": 4,
   "id": "d8513568",
   "metadata": {
    "scrolled": true
   },
   "outputs": [
    {
     "name": "stdout",
     "output_type": "stream",
     "text": [
      "red mango\n",
      "red pinapple\n",
      "red orenge\n",
      "red grapes\n",
      "red banana\n",
      "yellow mango\n",
      "yellow pinapple\n",
      "yellow orenge\n",
      "yellow grapes\n",
      "yellow banana\n",
      "green mango\n",
      "green pinapple\n",
      "green orenge\n",
      "green grapes\n",
      "green banana\n",
      "blue mango\n",
      "blue pinapple\n",
      "blue orenge\n",
      "blue grapes\n",
      "blue banana\n",
      "white mango\n",
      "white pinapple\n",
      "white orenge\n",
      "white grapes\n",
      "white banana\n"
     ]
    }
   ],
   "source": [
    "#Nested loop\n",
    "colour = [\"red\",\"yellow\",\"green\",\"blue\",\"white\"]\n",
    "fruits = [\"mango\",\"pinapple\",\"orenge\",\"grapes\",\"banana\"]\n",
    "for x in colour:\n",
    "    for y in fruits:\n",
    "        print(x,y)"
   ]
  },
  {
   "cell_type": "code",
   "execution_count": 5,
   "id": "507639d3",
   "metadata": {},
   "outputs": [],
   "source": [
    "def myfunction():\n",
    "    print(\"hello world!\")"
   ]
  },
  {
   "cell_type": "code",
   "execution_count": 6,
   "id": "576bd681",
   "metadata": {},
   "outputs": [
    {
     "name": "stdout",
     "output_type": "stream",
     "text": [
      "hello world!\n"
     ]
    }
   ],
   "source": [
    "myfunction()"
   ]
  },
  {
   "cell_type": "code",
   "execution_count": null,
   "id": "c83d79c3",
   "metadata": {},
   "outputs": [],
   "source": []
  }
 ],
 "metadata": {
  "kernelspec": {
   "display_name": "Python 3 (ipykernel)",
   "language": "python",
   "name": "python3"
  },
  "language_info": {
   "codemirror_mode": {
    "name": "ipython",
    "version": 3
   },
   "file_extension": ".py",
   "mimetype": "text/x-python",
   "name": "python",
   "nbconvert_exporter": "python",
   "pygments_lexer": "ipython3",
   "version": "3.9.7"
  }
 },
 "nbformat": 4,
 "nbformat_minor": 5
}
