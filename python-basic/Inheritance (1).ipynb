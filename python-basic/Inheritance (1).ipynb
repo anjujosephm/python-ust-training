{
 "cells": [
  {
   "cell_type": "markdown",
   "id": "a17718c0",
   "metadata": {},
   "source": [
    "# Inheritance"
   ]
  },
  {
   "cell_type": "markdown",
   "id": "ff7a5e95",
   "metadata": {},
   "source": [
    "Inheritance is a way to form new classes using classes that have already been defined. The newly formed classes are called derived classes, the classes that we derive from are called base classes. Important benefits of inheritance are code reuse and reduction of complexity of a program. The derived classes (descendants) override or extend the functionality of base classes (ancestors).\n",
    "\n",
    "Inheritance is the mechanism to achieve the re-usability of code as one class(child class) can derive the properties of another class(parent class)\n",
    "\n",
    "With single inheritance, a class is derived from one base class.\n",
    "\n",
    "With multiple inheritance, a derived class inherits from several base classes. \n",
    "\n",
    "\n",
    "Let's see an example by incorporating our previous work on the Dog class:"
   ]
  },
  {
   "cell_type": "code",
   "execution_count": 4,
   "id": "988f26f2",
   "metadata": {},
   "outputs": [],
   "source": [
    "# Single Inheritance\n",
    "\n",
    "class Animal:\n",
    "    def __init__(self):                      # Constructor of the class\n",
    "        print(\"Animal created\")\n",
    "\n",
    "    def whoAmI(self):\n",
    "        print(\"Animal\")\n",
    "\n",
    "    def eat(self):\n",
    "        print(\"Eating\")\n",
    "\n",
    "class Dog(Animal):\n",
    "    def __init__(self):                       # Constructor of the class\n",
    "       Animal.__init__(self)\n",
    "       print(\"Dog created\")\n",
    "    def whoAmI(self):\n",
    "       print(\"Dog\")\n",
    "    def bark(self):\n",
    "       print(\"Woof!\")"
   ]
  },
  {
   "cell_type": "raw",
   "id": "16f49931",
   "metadata": {},
   "source": [
    "# Create a object of class Dog"
   ]
  },
  {
   "cell_type": "code",
   "execution_count": 5,
   "id": "ddb7b3f6",
   "metadata": {},
   "outputs": [
    {
     "name": "stdout",
     "output_type": "stream",
     "text": [
      "Animal created\n",
      "Dog created\n"
     ]
    }
   ],
   "source": [
    "obj = Dog()"
   ]
  },
  {
   "cell_type": "code",
   "execution_count": 6,
   "id": "3e57d965",
   "metadata": {},
   "outputs": [
    {
     "name": "stdout",
     "output_type": "stream",
     "text": [
      "Dog\n"
     ]
    }
   ],
   "source": [
    "obj.whoAmI()"
   ]
  },
  {
   "cell_type": "code",
   "execution_count": 7,
   "id": "73e71c63",
   "metadata": {},
   "outputs": [
    {
     "name": "stdout",
     "output_type": "stream",
     "text": [
      "Eating\n"
     ]
    }
   ],
   "source": [
    "obj.eat()"
   ]
  },
  {
   "cell_type": "code",
   "execution_count": 8,
   "id": "b8d6e8a0",
   "metadata": {},
   "outputs": [
    {
     "name": "stdout",
     "output_type": "stream",
     "text": [
      "Woof!\n"
     ]
    }
   ],
   "source": [
    "obj.bark()"
   ]
  },
  {
   "cell_type": "markdown",
   "id": "a183bcb3",
   "metadata": {},
   "source": [
    "In this example, we have two classes: Animal and Dog. The Animal is the base class, the Dog is the derived class.\n",
    "\n",
    "The derived class inherits the functionality of the base class.\n",
    "\n",
    "It is shown by the eat() method.\n",
    "The derived class modifies existing behavior of the base class.\n",
    "\n",
    "shown by the whoAmI() method.\n",
    "Finally, the derived class extends the functionality of the base class, by defining a new bark() method."
   ]
  },
  {
   "cell_type": "markdown",
   "id": "4db3f1c3",
   "metadata": {},
   "source": [
    "# Multiple Inheritance "
   ]
  },
  {
   "cell_type": "markdown",
   "id": "b6cc7af1",
   "metadata": {},
   "source": [
    "With multiple inheritance, a derived class inherits from several base classes.\n",
    "\n",
    "The derived class inherits all the features of the base case.\n"
   ]
  },
  {
   "cell_type": "code",
   "execution_count": 3,
   "id": "4e4b2dd0",
   "metadata": {},
   "outputs": [
    {
     "name": "stdout",
     "output_type": "stream",
     "text": [
      "50\n",
      "35\n"
     ]
    }
   ],
   "source": [
    "# Multiple inheritance\n",
    "\n",
    "class First():\n",
    "    def sum1(self,a,b):\n",
    "        c = a + b\n",
    "        return c\n",
    "class Second():\n",
    "     def sub1(self,x,y):\n",
    "        z = x - y\n",
    "        return z\n",
    "class Third(First,Second):                    # class Third inherits class first and class Second\n",
    "    pass\n",
    "\n",
    "obj= Third()                                 # creating object for class Third\n",
    "print(obj.sum1(20,30))\n",
    "print(obj.sub1(50,15))\n"
   ]
  },
  {
   "cell_type": "markdown",
   "id": "f50c620c",
   "metadata": {},
   "source": [
    "# Multiple Inheritance and Name clash problem"
   ]
  },
  {
   "cell_type": "markdown",
   "id": "b5afb399",
   "metadata": {},
   "source": [
    "Multiple inheritance is possible in python programming.\n",
    "\n",
    "Method resolution order:\n",
    "\n",
    "In Python, every class whether built-in or user-defined is derived from the object class and all the objects are instances of the class object. Hence, the object class is the base class for all the other classes. In the case of multiple inheritance, a given attribute is first searched in the current class if it’s not found then it’s searched in the parent classes. The parent classes are searched in a depth-first, left-right fashion and each class is searched once.\n",
    "\n",
    "called Method Resolution Order (MRO)."
   ]
  },
  {
   "cell_type": "code",
   "execution_count": 9,
   "id": "0091e5ba",
   "metadata": {},
   "outputs": [],
   "source": [
    "# when every class defines the same method\n",
    "\n",
    "class First():\n",
    "    def amethod(self):\n",
    "        print(\"First class\")\n",
    "class Second(First):\n",
    "    pass\n",
    "class Third():\n",
    "    def amethod(self):\n",
    "        print(\"Third class\")\n",
    "class Derived(Second,Third):\n",
    "    pass\n"
   ]
  },
  {
   "cell_type": "code",
   "execution_count": 10,
   "id": "bd8fb92f",
   "metadata": {},
   "outputs": [
    {
     "name": "stdout",
     "output_type": "stream",
     "text": [
      "First class\n"
     ]
    }
   ],
   "source": [
    "obj= Derived()\n",
    "obj.amethod()"
   ]
  },
  {
   "cell_type": "markdown",
   "id": "17d1c67c",
   "metadata": {},
   "source": [
    "# super keyword"
   ]
  },
  {
   "cell_type": "markdown",
   "id": "d74d6b86",
   "metadata": {},
   "source": [
    "The super() function is used to give access to methods and properties of a parent or sibling class. The super() function returns an object that represents the parent class."
   ]
  },
  {
   "cell_type": "code",
   "execution_count": 11,
   "id": "e8c9bfe6",
   "metadata": {},
   "outputs": [
    {
     "name": "stdout",
     "output_type": "stream",
     "text": [
      "in A show\n",
      "in B show\n"
     ]
    }
   ],
   "source": [
    "class A:\n",
    "    def show(self):\n",
    "        print(\"in A show\")\n",
    "        \n",
    "class B(A):\n",
    "    pass\n",
    "    def show(self):\n",
    "       super().show()\n",
    "       print(\"in B show\")\n",
    "obj = B()\n",
    "obj.show()"
   ]
  },
  {
   "cell_type": "code",
   "execution_count": null,
   "id": "2f46ff29",
   "metadata": {},
   "outputs": [],
   "source": []
  }
 ],
 "metadata": {
  "kernelspec": {
   "display_name": "Python 3 (ipykernel)",
   "language": "python",
   "name": "python3"
  },
  "language_info": {
   "codemirror_mode": {
    "name": "ipython",
    "version": 3
   },
   "file_extension": ".py",
   "mimetype": "text/x-python",
   "name": "python",
   "nbconvert_exporter": "python",
   "pygments_lexer": "ipython3",
   "version": "3.9.7"
  }
 },
 "nbformat": 4,
 "nbformat_minor": 5
}
