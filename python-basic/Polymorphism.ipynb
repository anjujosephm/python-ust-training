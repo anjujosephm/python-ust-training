{
 "cells": [
  {
   "cell_type": "markdown",
   "id": "5bc95ac1",
   "metadata": {},
   "source": [
    "# Polymorphism"
   ]
  },
  {
   "cell_type": "markdown",
   "id": "02260cd1",
   "metadata": {},
   "source": [
    "\n",
    "We've learned that while functions can take in different arguments, methods belong to the objects they act on. In Python, polymorphism refers to the way in which different object classes can share the same method name, and those methods can be called from the same place even though a variety of different objects might be passed in. The best way to explain this is by example:\n",
    "\n"
   ]
  },
  {
   "cell_type": "code",
   "execution_count": 19,
   "id": "b24eebee",
   "metadata": {},
   "outputs": [
    {
     "name": "stdout",
     "output_type": "stream",
     "text": [
      "Niko says Woof!\n",
      "Felix says Meow!\n"
     ]
    }
   ],
   "source": [
    "class Dog:\n",
    "    def __init__(self, name):\n",
    "        self.name = name\n",
    "\n",
    "    def speak(self):\n",
    "        return self.name+' says Woof!'\n",
    "    \n",
    "class Cat:\n",
    "    def __init__(self, name):\n",
    "        self.name = name\n",
    "\n",
    "    def speak(self):\n",
    "        return self.name+' says Meow!' \n",
    "    \n",
    "niko = Dog('Niko')\n",
    "felix = Cat('Felix')\n",
    "\n",
    "print(niko.speak())\n",
    "print(felix.speak())\n"
   ]
  },
  {
   "cell_type": "markdown",
   "id": "d4dacbb3",
   "metadata": {},
   "source": [
    "Here we have a Dog class and a Cat class, and each has a .speak() method. When called, each object's .speak() method returns a result unique to the object.\n",
    "\n",
    "There a few different ways to demonstrate polymorphism. First, with a for loop:"
   ]
  },
  {
   "cell_type": "code",
   "execution_count": 20,
   "id": "52ad1cfd",
   "metadata": {},
   "outputs": [
    {
     "name": "stdout",
     "output_type": "stream",
     "text": [
      "Niko says Woof!\n",
      "Felix says Meow!\n"
     ]
    }
   ],
   "source": [
    "for pet in [niko,felix]:\n",
    "    print(pet.speak())"
   ]
  },
  {
   "cell_type": "markdown",
   "id": "9d4c99a3",
   "metadata": {},
   "source": [
    "Another is with functions:"
   ]
  },
  {
   "cell_type": "code",
   "execution_count": 21,
   "id": "fa07a045",
   "metadata": {},
   "outputs": [
    {
     "name": "stdout",
     "output_type": "stream",
     "text": [
      "Niko says Woof!\n",
      "Felix says Meow!\n"
     ]
    }
   ],
   "source": [
    "def pet_speak(pet):\n",
    "    print(pet.speak())\n",
    "\n",
    "pet_speak(niko)\n",
    "pet_speak(felix)"
   ]
  },
  {
   "cell_type": "markdown",
   "id": "1204b289",
   "metadata": {},
   "source": [
    "In both cases we were able to pass in different object types, and we obtained object-specific results from the same mechanism.\n",
    "\n",
    "A more common practice is to use abstract classes and inheritance. An abstract class is one that never expects to be instantiated. For example, we will never have an Animal object, only Dog and Cat objects, although Dogs and Cats are derived from Animals:"
   ]
  },
  {
   "cell_type": "code",
   "execution_count": 25,
   "id": "a73f65ed",
   "metadata": {},
   "outputs": [
    {
     "name": "stdout",
     "output_type": "stream",
     "text": [
      "Fido says Woof!\n",
      "Isis says Meow!\n"
     ]
    }
   ],
   "source": [
    "class Animal:\n",
    "    def __init__(self, name):    # Constructor of the class\n",
    "        self.name = name\n",
    "\n",
    "    def speak(self):              # Abstract method, defined by convention only\n",
    "        raise NotImplementedError(\"Subclass must implement abstract method\")\n",
    "\n",
    "\n",
    "class Dog(Animal):\n",
    "    \n",
    "    def speak(self):\n",
    "        return self.name+' says Woof!'\n",
    "    \n",
    "class Cat(Animal):\n",
    "\n",
    "    def speak(self):\n",
    "        return self.name+' says Meow!'\n",
    "    \n",
    "fido = Dog('Fido')\n",
    "isis = Cat('Isis')\n",
    "\n",
    "print(fido.speak())\n",
    "print(isis.speak())"
   ]
  },
  {
   "cell_type": "markdown",
   "id": "e134fc43",
   "metadata": {},
   "source": [
    "Polymorphism can achieve through 3 ways :\n",
    "   1. Operator overloading\n",
    "   2. Method overloading\n",
    "   3. Method overriding\n"
   ]
  },
  {
   "cell_type": "markdown",
   "id": "9ce26653",
   "metadata": {},
   "source": [
    "# Operator overloading"
   ]
  },
  {
   "cell_type": "code",
   "execution_count": 2,
   "id": "675c9374",
   "metadata": {},
   "outputs": [
    {
     "name": "stdout",
     "output_type": "stream",
     "text": [
      "11\n"
     ]
    }
   ],
   "source": [
    "print(5 + 6)"
   ]
  },
  {
   "cell_type": "code",
   "execution_count": 3,
   "id": "def97672",
   "metadata": {},
   "outputs": [
    {
     "name": "stdout",
     "output_type": "stream",
     "text": [
      "Hello Python\n"
     ]
    }
   ],
   "source": [
    "print('Hello ' + 'Python')"
   ]
  },
  {
   "cell_type": "code",
   "execution_count": 4,
   "id": "46fd247d",
   "metadata": {},
   "outputs": [
    {
     "name": "stdout",
     "output_type": "stream",
     "text": [
      "50\n",
      "Hello Hello Hello Hello Hello \n"
     ]
    }
   ],
   "source": [
    "a = 5 * 10\n",
    "b = 'Hello ' * 5\n",
    "print(a)\n",
    "print(b)"
   ]
  },
  {
   "cell_type": "markdown",
   "id": "cd8f23c3",
   "metadata": {},
   "source": [
    "# Method overloading"
   ]
  },
  {
   "cell_type": "markdown",
   "id": "772cae6f",
   "metadata": {},
   "source": [
    "python does not support method overloading by default.\n",
    " We may define many methods of the same name and different arguments, but we can only use the latest defined method. Calling the other method will produce an error. "
   ]
  },
  {
   "cell_type": "code",
   "execution_count": 5,
   "id": "41b3d013",
   "metadata": {},
   "outputs": [
    {
     "ename": "TypeError",
     "evalue": "sum_find() missing 1 required positional argument: 'z'",
     "output_type": "error",
     "traceback": [
      "\u001b[1;31m---------------------------------------------------------------------------\u001b[0m",
      "\u001b[1;31mTypeError\u001b[0m                                 Traceback (most recent call last)",
      "\u001b[1;32m~\\AppData\\Local\\Temp/ipykernel_26316/705575971.py\u001b[0m in \u001b[0;36m<module>\u001b[1;34m\u001b[0m\n\u001b[0;32m     13\u001b[0m \u001b[1;33m\u001b[0m\u001b[0m\n\u001b[0;32m     14\u001b[0m \u001b[0mb\u001b[0m \u001b[1;33m=\u001b[0m \u001b[0mB\u001b[0m\u001b[1;33m(\u001b[0m\u001b[1;33m)\u001b[0m\u001b[1;33m\u001b[0m\u001b[1;33m\u001b[0m\u001b[0m\n\u001b[1;32m---> 15\u001b[1;33m \u001b[0mb\u001b[0m\u001b[1;33m.\u001b[0m\u001b[0msum_find\u001b[0m\u001b[1;33m(\u001b[0m\u001b[1;36m10\u001b[0m\u001b[1;33m,\u001b[0m\u001b[1;36m20\u001b[0m\u001b[1;33m)\u001b[0m\u001b[1;33m\u001b[0m\u001b[1;33m\u001b[0m\u001b[0m\n\u001b[0m\u001b[0;32m     16\u001b[0m \u001b[0mb\u001b[0m\u001b[1;33m.\u001b[0m\u001b[0msum_find\u001b[0m\u001b[1;33m(\u001b[0m\u001b[1;36m10\u001b[0m\u001b[1;33m,\u001b[0m\u001b[1;36m20\u001b[0m\u001b[1;33m,\u001b[0m\u001b[1;36m30\u001b[0m\u001b[1;33m)\u001b[0m\u001b[1;33m\u001b[0m\u001b[1;33m\u001b[0m\u001b[0m\n",
      "\u001b[1;31mTypeError\u001b[0m: sum_find() missing 1 required positional argument: 'z'"
     ]
    }
   ],
   "source": [
    "#python does not support method overloading by default\n",
    "\n",
    "class B:\n",
    "    def sum_find(self, x, y):\n",
    "        sum1 = x+y\n",
    "        print(sum1)\n",
    "        \n",
    "    def sum_find(self, x, y, z):\n",
    "        sum1 = x+y+z\n",
    "        print(sum1)\n",
    "        \n",
    "            \n",
    "            \n",
    "b = B()\n",
    "b.sum_find(10,20)\n",
    "b.sum_find(10,20,30)"
   ]
  },
  {
   "cell_type": "markdown",
   "id": "7cdbedb1",
   "metadata": {},
   "source": [
    "To perform method overloading in python, use defalut values and set default value = None and check it in if satatement, (it explained in example)"
   ]
  },
  {
   "cell_type": "code",
   "execution_count": 28,
   "id": "79edf13b",
   "metadata": {},
   "outputs": [
    {
     "name": "stdout",
     "output_type": "stream",
     "text": [
      "30\n",
      "60\n"
     ]
    }
   ],
   "source": [
    "class B:\n",
    "    def sum_find(self, x=None, y=None, z=None):\n",
    "        if x!=None and y!=None and z!=None:\n",
    "            sum1 = x+y+z\n",
    "            print(sum1)\n",
    "        elif x!=None and y!=None:\n",
    "            sum1 = x+y\n",
    "            print(sum1)\n",
    "            \n",
    "            \n",
    "b = B()\n",
    "b.sum_find(10,20)\n",
    "b.sum_find(10,20,30)"
   ]
  },
  {
   "cell_type": "code",
   "execution_count": null,
   "id": "c1dce3c6",
   "metadata": {},
   "outputs": [],
   "source": [
    "#For addition , default value = 0"
   ]
  },
  {
   "cell_type": "code",
   "execution_count": 29,
   "id": "fc2de0cb",
   "metadata": {},
   "outputs": [
    {
     "name": "stdout",
     "output_type": "stream",
     "text": [
      "70\n"
     ]
    }
   ],
   "source": [
    "class B:\n",
    "    def sum_find(self, x=0, y=0, z=0):\n",
    "        sum1 = x+y+z\n",
    "        print(sum1)\n",
    "                  \n",
    "            \n",
    "b = B()\n",
    "b.sum_find(10,20,40)"
   ]
  },
  {
   "cell_type": "code",
   "execution_count": null,
   "id": "8fce589e",
   "metadata": {},
   "outputs": [],
   "source": [
    "# For multiplication , default value = 1"
   ]
  },
  {
   "cell_type": "code",
   "execution_count": 30,
   "id": "71a926b0",
   "metadata": {},
   "outputs": [
    {
     "name": "stdout",
     "output_type": "stream",
     "text": [
      "24\n"
     ]
    }
   ],
   "source": [
    "class B:\n",
    "    def product_find(self, x=1, y=1, z=1):\n",
    "        sum1 = x*y*z\n",
    "        print(sum1)\n",
    "                  \n",
    "            \n",
    "b = B()\n",
    "b.product_find(2,3,4)"
   ]
  },
  {
   "cell_type": "markdown",
   "id": "3ba94e52",
   "metadata": {},
   "source": [
    "# Method overriding"
   ]
  },
  {
   "cell_type": "markdown",
   "id": "ef243e25",
   "metadata": {},
   "source": [
    "Method overriding in Python is when you have two methods with the same name that each perform different tasks.\n",
    " In method overriding, the derived class can change its functions that are defined by its base classes."
   ]
  },
  {
   "cell_type": "code",
   "execution_count": 31,
   "id": "6573fc71",
   "metadata": {},
   "outputs": [
    {
     "name": "stdout",
     "output_type": "stream",
     "text": [
      "Dog class\n"
     ]
    }
   ],
   "source": [
    "class Animal:\n",
    "    def speak(self):             \n",
    "        print(\"Animal class\")\n",
    "\n",
    "\n",
    "class Dog(Animal):\n",
    "    \n",
    "    def speak(self):\n",
    "        print(\"Dog class\")\n",
    "\n",
    "obj = Dog()\n",
    "obj.speak()\n"
   ]
  },
  {
   "cell_type": "markdown",
   "id": "4841fb38",
   "metadata": {},
   "source": [
    "Real life examples of polymorphism include:\n",
    "* opening different file types - different tools are needed to display Word, pdf and Excel files\n",
    "* adding different objects - the `+` operator performs arithmetic and concatenation"
   ]
  }
 ],
 "metadata": {
  "kernelspec": {
   "display_name": "Python 3 (ipykernel)",
   "language": "python",
   "name": "python3"
  },
  "language_info": {
   "codemirror_mode": {
    "name": "ipython",
    "version": 3
   },
   "file_extension": ".py",
   "mimetype": "text/x-python",
   "name": "python",
   "nbconvert_exporter": "python",
   "pygments_lexer": "ipython3",
   "version": "3.9.7"
  }
 },
 "nbformat": 4,
 "nbformat_minor": 5
}
