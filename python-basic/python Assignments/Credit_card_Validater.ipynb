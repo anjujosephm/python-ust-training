{
 "cells": [
  {
   "cell_type": "markdown",
   "id": "4aa9625f",
   "metadata": {},
   "source": [
    "# Credit card validater"
   ]
  },
  {
   "cell_type": "markdown",
   "id": "3503cdac",
   "metadata": {},
   "source": [
    "all numbers of a credit card follow a pattern, which can be validated with Luhn's algorithm. However, this algorithm only ensures that the given credit card number is a valid number. It does not ensure that it exists in any bank database."
   ]
  },
  {
   "cell_type": "code",
   "execution_count": null,
   "id": "82f45195",
   "metadata": {},
   "outputs": [],
   "source": [
    "# credit card validation using Luhn's algorithm\n",
    "\n",
    "def card_validater():\n",
    "    card_number=list(input(\"Please enter the card number : \").strip())\n",
    "    \n",
    "    # for checking card number consist of 16 digits,master card visa card number have 16 digits\n",
    "    \n",
    "    if len(card_number) != 16:\n",
    "        print(\"Card number consist of 16 digits, please re-enter\")\n",
    "        card_validater()\n",
    "        \n",
    "    else:\n",
    "        check_digit= card_number.pop()\n",
    "        \n",
    "        card_number.reverse()\n",
    "        \n",
    "        processed_digits =[]\n",
    "        for index, digit in enumerate(card_number):\n",
    "            if index % 2 ==0:\n",
    "                double_digit=int(digit*2)\n",
    "                if double_digit > 9:\n",
    "                    double_digit = double_digit -9\n",
    "                processed_digits.append(double_digit)\n",
    "            else:\n",
    "                processed_digits.append(int(digit))\n",
    "                \n",
    "        total = int(check_digit) + sum(processed_digits)\n",
    "        #print(total % 10 == 0)\n",
    "        if total % 10 == 0:\n",
    "            print(\"Valid card\" )\n",
    "        else:\n",
    "            print(\"Invalid card\")\n",
    "            \n",
    "            \n",
    "card_validater()"
   ]
  },
  {
   "cell_type": "markdown",
   "id": "82a36766",
   "metadata": {},
   "source": [
    "# Additional info:"
   ]
  },
  {
   "cell_type": "markdown",
   "id": "438960fd",
   "metadata": {},
   "source": [
    "The Python strip() method removes any spaces or specified characters at the start and end of a string. strip() returns a new string without the characters you have specified to remove. This example removes all the leading and trailing white space characters in our string."
   ]
  },
  {
   "cell_type": "markdown",
   "id": "5168f7bf",
   "metadata": {},
   "source": [
    "What is the enumerate function in Python?\n",
    "\n",
    "\n",
    "enumerate() allows us to iterate through a sequence but it keeps track of both the index and the element. enumerate(iterable, start=0) The enumerate() function takes in an iterable as an argument, such as a list, string, tuple, or dictionary."
   ]
  },
  {
   "cell_type": "code",
   "execution_count": null,
   "id": "114aacd7",
   "metadata": {},
   "outputs": [],
   "source": []
  }
 ],
 "metadata": {
  "kernelspec": {
   "display_name": "Python 3 (ipykernel)",
   "language": "python",
   "name": "python3"
  },
  "language_info": {
   "codemirror_mode": {
    "name": "ipython",
    "version": 3
   },
   "file_extension": ".py",
   "mimetype": "text/x-python",
   "name": "python",
   "nbconvert_exporter": "python",
   "pygments_lexer": "ipython3",
   "version": "3.9.7"
  }
 },
 "nbformat": 4,
 "nbformat_minor": 5
}
