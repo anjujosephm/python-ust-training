{
 "cells": [
  {
   "cell_type": "markdown",
   "id": "c2c12064",
   "metadata": {},
   "source": [
    "# Slide show"
   ]
  },
  {
   "cell_type": "markdown",
   "id": "42b1c0da",
   "metadata": {},
   "source": [
    "Python offers multiple options for developing GUI (Graphical User Interface). Out of all the GUI methods, tkinter is the most commonly used method. It is a standard Python interface to the Tk GUI toolkit shipped with Python. Python with tkinter is the fastest and easiest way to create the GUI applications.\n",
    "\n",
    "Python Imaging Library (expansion of PIL) is the de facto image processing package for Python language.\n",
    "\n",
    "\n",
    "The glob module :\n",
    "    is a useful part of the Python standard library. glob (short for global) is used to return all file paths that match a specific pattern. ... According to Wikipedia, “ glob patterns specify sets of filenames with wildcard characters”. These patterns are similar to regular expressions but much simpler."
   ]
  },
  {
   "cell_type": "code",
   "execution_count": 3,
   "id": "999d37ba",
   "metadata": {},
   "outputs": [],
   "source": [
    "import tkinter as tk\n",
    "from PIL import Image, ImageTk\n",
    "import random\n",
    "import glob\n",
    "\n",
    "\n",
    "class gui:\n",
    "    def __init__(self, mainwin):\n",
    "        self.counter = 0\n",
    "        self.mainwin = mainwin\n",
    "        self.mainwin.title('Tkinter Picture Frame')\n",
    "        self.mainwin.geometry('800x500')\n",
    "        #self.mainwin.configure(bg='blue')                                   #for giving back_ground colour\n",
    "        self.mainwin.configure(bg='#cc99ff')\n",
    "        #self.mainwin.attributes('-topmost',1)                               #positioning\n",
    "        #self.mainwin.state('zoomed')\n",
    "        \n",
    "        self.img = tk.Label(mainwin)\n",
    "        self.img.pack()  \n",
    "        \n",
    "        self.pic()\n",
    "    \n",
    "    def pic(self):\n",
    "        \n",
    "        self.pic_list =[]\n",
    "        \n",
    "        #give the path using glob ,path were the images saved in your computer\n",
    "        for name in glob.glob(r'C:\\Users\\shani\\OneDrive\\Desktop\\Images_Slideshow\\*'):              \n",
    "            val = name\n",
    "            self.pic_list.append(val)\n",
    "    \n",
    "        if self.counter == len(self.pic_list) -1:\n",
    "            self.counter =0\n",
    "        else:\n",
    "            self.counter=self.counter +1\n",
    "    \n",
    "        self.file = self.pic_list[self.counter]\n",
    "        self.load = Image.open(self.file).resize((500, 500))\n",
    "        \n",
    "        self.render = ImageTk.PhotoImage(self.load)\n",
    "        self.img.config(image = self.render)\n",
    "        #self.img.image = self.render\n",
    "        root.after(2000, self.pic)\n",
    "\n",
    "root = tk.Tk()\n",
    "mypgm = gui(root)\n",
    "root.mainloop()\n"
   ]
  },
  {
   "cell_type": "code",
   "execution_count": null,
   "id": "f5916688",
   "metadata": {},
   "outputs": [],
   "source": []
  }
 ],
 "metadata": {
  "kernelspec": {
   "display_name": "Python 3 (ipykernel)",
   "language": "python",
   "name": "python3"
  },
  "language_info": {
   "codemirror_mode": {
    "name": "ipython",
    "version": 3
   },
   "file_extension": ".py",
   "mimetype": "text/x-python",
   "name": "python",
   "nbconvert_exporter": "python",
   "pygments_lexer": "ipython3",
   "version": "3.9.7"
  }
 },
 "nbformat": 4,
 "nbformat_minor": 5
}
