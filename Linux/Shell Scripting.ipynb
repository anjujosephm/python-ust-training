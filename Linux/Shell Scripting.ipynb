{
 "cells": [
  {
   "cell_type": "markdown",
   "id": "d2dc0a43",
   "metadata": {},
   "source": [
    "# Shell scripting using python"
   ]
  },
  {
   "cell_type": "markdown",
   "id": "8cb9e286",
   "metadata": {},
   "source": [
    "shell scripting : run by Unix/Linux shell\n",
    "    \n",
    "used for : file manipulation , program execution and printing text"
   ]
  },
  {
   "cell_type": "raw",
   "id": "7e277b03",
   "metadata": {},
   "source": [
    "# variable declaration\n",
    "\n",
    "var = 'welcome to the bash scripting'\n",
    "echo $var\n",
    "\n",
    "num1=10                       #declaring the num1 variable\n",
    "num2=20                       #declaring the num2 variable\n",
    "num3=$(($num1+$num2))\n",
    "echo 'The sum is : $num3'"
   ]
  },
  {
   "cell_type": "raw",
   "id": "114f7e5b",
   "metadata": {},
   "source": [
    "output \n",
    "\n",
    "Welcome to the bash scripting\n",
    "The sum is : 30"
   ]
  },
  {
   "cell_type": "markdown",
   "id": "fa1c6eb7",
   "metadata": {},
   "source": [
    "If LOOP"
   ]
  },
  {
   "cell_type": "raw",
   "id": "6f4ef926",
   "metadata": {},
   "source": [
    "# if loop\n",
    "\n",
    "VAR=7\n",
    "if [ $VAR -lt 10 ];\n",
    "then\n",
    "    echo \"The number is less than 10\"\n",
    "else\n",
    "    echo \"The number is equal or greater than 10\"\n",
    "fi"
   ]
  },
  {
   "cell_type": "raw",
   "id": "6d7b9027",
   "metadata": {},
   "source": [
    "output \n",
    "\n",
    "The number is less than 10"
   ]
  },
  {
   "cell_type": "markdown",
   "id": "0c19eca6",
   "metadata": {},
   "source": [
    "Using OR Logic Operater"
   ]
  },
  {
   "cell_type": "raw",
   "id": "67184438",
   "metadata": {},
   "source": [
    "#declaring a variable\n",
    "VAR=7\n",
    "#using OR operator in if condition\n",
    "if [[ ( $VAR -gt 5 ) || ( $VAR -eq 7 ) ]]\n",
    "then\n",
    "\techo \"The number is greater than 5 or equal to 7\"\n",
    "else\n",
    "\techo \"The number is not greater than 5 nor equal to 7\"\n",
    "fi"
   ]
  },
  {
   "cell_type": "raw",
   "id": "21327c08",
   "metadata": {},
   "source": [
    "output\n",
    "\n",
    "The number is greater than 5 or equal to 7"
   ]
  },
  {
   "cell_type": "markdown",
   "id": "0aad9977",
   "metadata": {},
   "source": [
    "Conditional Statements"
   ]
  },
  {
   "cell_type": "raw",
   "id": "366bb3f1",
   "metadata": {},
   "source": [
    "#declaring a variable\n",
    "VAR=7\n",
    "if [ $VAR -lt 10 ];\n",
    "then\n",
    "\techo \"The number is less than 10\"\n",
    "else\n",
    "\techo \"The number is equal or greater than 10\"\n",
    "fi"
   ]
  },
  {
   "cell_type": "raw",
   "id": "76032f75",
   "metadata": {},
   "source": [
    "output \n",
    "\n",
    "The number is less than 10"
   ]
  },
  {
   "cell_type": "raw",
   "id": "d8025f65",
   "metadata": {},
   "source": [
    "#declaring a variable\n",
    "VAR=1\n",
    "while [ $VAR -le 10 ]\n",
    "do\n",
    "       echo \"The vale is: $VAR\"\n",
    "       #Incrementing the variable by 1\n",
    "       (( VAR++ ))\n",
    "done"
   ]
  },
  {
   "cell_type": "raw",
   "id": "2c1bb08c",
   "metadata": {},
   "source": [
    "output \n",
    "\n",
    "The vale is: 1\n",
    "The vale is: 2\n",
    "The vale is: 3\n",
    "The vale is: 4\n",
    "The vale is: 5\n",
    "The vale is: 6\n",
    "The vale is: 7\n",
    "The vale is: 8\n",
    "The vale is: 9\n",
    "The vale is: 10"
   ]
  },
  {
   "cell_type": "code",
   "execution_count": null,
   "id": "b6cc5b57",
   "metadata": {},
   "outputs": [],
   "source": []
  }
 ],
 "metadata": {
  "kernelspec": {
   "display_name": "Python 3 (ipykernel)",
   "language": "python",
   "name": "python3"
  },
  "language_info": {
   "codemirror_mode": {
    "name": "ipython",
    "version": 3
   },
   "file_extension": ".py",
   "mimetype": "text/x-python",
   "name": "python",
   "nbconvert_exporter": "python",
   "pygments_lexer": "ipython3",
   "version": "3.9.7"
  }
 },
 "nbformat": 4,
 "nbformat_minor": 5
}
